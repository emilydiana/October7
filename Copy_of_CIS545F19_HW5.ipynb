{
  "nbformat": 4,
  "nbformat_minor": 0,
  "metadata": {
    "colab": {
      "name": "Copy of CIS545F19-HW5",
      "provenance": [],
      "collapsed_sections": [],
      "include_colab_link": true
    },
    "kernelspec": {
      "name": "python3",
      "display_name": "Python 3"
    },
    "accelerator": "GPU"
  },
  "cells": [
    {
      "cell_type": "markdown",
      "metadata": {
        "id": "view-in-github",
        "colab_type": "text"
      },
      "source": [
        "<a href=\"https://colab.research.google.com/github/emilydiana/October7/blob/master/Copy_of_CIS545F19_HW5.ipynb\" target=\"_parent\"><img src=\"https://colab.research.google.com/assets/colab-badge.svg\" alt=\"Open In Colab\"/></a>"
      ]
    },
    {
      "cell_type": "markdown",
      "metadata": {
        "id": "F5cl91jlp2-F",
        "colab_type": "text"
      },
      "source": [
        "# CIS 545 Homework 5: Deep Learning - Due December 5th 2019\n",
        "\n",
        "Welcome to CIS 545 Homework 5! \n",
        "\n",
        "In this homework, we will learn more about the 'new electricity' - Deep Learning (I didn't coin this, Andrew NG did) ! We will be learning how to use Tensorflow (sorry pytorch users!)with Keras - a machine learning library widely used everywhere, for different machine learning problems. Deep learning or neural network architectures have been used to solve a multitude of problems in various different fields like vision, natural language processing. So let's take a 'deep' dive into it.\n",
        "\n",
        "\n",
        "![alt text](http://4.bp.blogspot.com/-sLgBLS3bJO8/U__Kx6PnkRI/AAAAAAAAAWM/Gz3cL5jiwTo/s320/godeeper.jpg)\n",
        "\n",
        "\n",
        "\n"
      ]
    },
    {
      "cell_type": "markdown",
      "metadata": {
        "id": "YS7-6E3XOG43",
        "colab_type": "text"
      },
      "source": [
        "## Why deep learning? \n",
        "\n",
        "\n",
        "*   It's coooool\n",
        "*   Everyone is talking about is these days, People like Siraj Raval can teach it in 5 mins (Check out his youtube channel for some comedy)\n",
        "*    Deep learning unlocks the treasure trove of unstructured big data for those with the imagination to use it\n",
        "*   Deep learning models have great representational power and are 'universal approximators'\n",
        "\n",
        "\n",
        "### Deep Learning Applications:\n",
        "\n",
        "\n",
        "Deep learning has been significantly improved voice command systems (such as Siri and Alexa), as well as healthcare and image identification.\n",
        "\n",
        "Deep learning has applications across numerous industries, which is why experts think that this technology is the future of almost everything. There are truly deep learning technologies such as Google’s very human-like talking AI, a new theory that cracks the 'black box' of deep learning, and various budding ideas like this one about why human forgetting might be the key to AI. Here are some cool applications of deep learning - \n",
        "\n",
        "Here's a neural network detecting anomalies in Chest Xrays :\n",
        "\n",
        "\n",
        "\n",
        "\n",
        "![alt text](https://imgur.com/HKPzrzP.jpg)\n",
        "\n",
        "Most humans can't tell that this is a case of Pleural Effusion {sounds like medical jargon to engineers like us} but this Neural Network model can detect it very well!\n",
        "\n",
        "Mask RCNNs in action for detecting objects on the road aiding a self driving vehicle's driving: \n",
        "![alt text](https://miro.medium.com/max/3864/1*O4wsvh0CHWjP6IrK9HI_Zg.png)\n",
        "\n",
        "Pretty cool, right? We will be training deep learning models in this assignment for some cool problems :)\n",
        "\n",
        "\n",
        "Firstly, we will be appling CNNs to a Image Classification problem and later apply RNN/LSTMs to a XXXXX problem. So let's get started!\n"
      ]
    },
    {
      "cell_type": "markdown",
      "metadata": {
        "id": "rQ-2TpP5gjul",
        "colab_type": "text"
      },
      "source": [
        "## Initializing the Penn Grader (formerly known as The Galant Grader) "
      ]
    },
    {
      "cell_type": "code",
      "metadata": {
        "id": "1s9fiMpzQ16n",
        "colab_type": "code",
        "colab": {}
      },
      "source": [
        "STUDENT_PENN_ID = 46695085"
      ],
      "execution_count": 0,
      "outputs": []
    },
    {
      "cell_type": "code",
      "metadata": {
        "id": "tskQ1iUVQuxt",
        "colab_type": "code",
        "colab": {}
      },
      "source": [
        "import json\n",
        "import urllib.request\n",
        "import dill\n",
        "import base64\n",
        "\n",
        "api_endpoint = 'https://d9w676u8n0.execute-api.us-east-1.amazonaws.com/default/PennGrader'\n",
        "\n",
        "class PennGrader:\n",
        "\n",
        "    def __init__(self, student_id, homework_id = 'CIS545_Fall19_HW5'):\n",
        "        if student_id == None:\n",
        "            print('Error Autograder Not Setup: Enter your 8 digit PennID in the cell above.') \n",
        "        self.student_id         = str(student_id)\n",
        "        self.api_endpoint       = api_endpoint\n",
        "        self.class_homework_id  = homework_id \n",
        "        \n",
        "    def grade(self, test_case_id, answer):\n",
        "        student_test_case_id = self.student_id + '_' + test_case_id\n",
        "        payload = {'student_test_case_id'   : student_test_case_id,\n",
        "                   'class_homework_id'      : self.class_homework_id,\n",
        "                   'test_case_id'           : test_case_id,\n",
        "                   'answer'                 : self.serialize(answer)}\n",
        "        params = json.dumps(payload).encode('utf-8')\n",
        "        request = urllib.request.Request(self.api_endpoint, \n",
        "                                         data    = params, \n",
        "                                         headers = {'content-type': 'application/json'})\n",
        "        try:\n",
        "            response = urllib.request.urlopen(request)\n",
        "            response_body = response.read().decode('utf-8')\n",
        "            print('{}'.format(response_body))\n",
        "        except:\n",
        "            print('Error: Grading request could not be completed.')\n",
        "\n",
        "    def serialize(self, obj):\n",
        "        byte_serialized = dill.dumps(obj)\n",
        "        return base64.b64encode(byte_serialized).decode(\"utf-8\")\n",
        "        \n",
        "    def deserialize(self, obj):\n",
        "        byte_decoded = base64.b64decode(obj)\n",
        "        return dill.loads(byte_decoded)\n",
        "\n",
        "grader = PennGrader(student_id = STUDENT_PENN_ID, homework_id = 'CIS545_Fall19_HW5') "
      ],
      "execution_count": 0,
      "outputs": []
    },
    {
      "cell_type": "markdown",
      "metadata": {
        "id": "l6aRsCyKSH77",
        "colab_type": "text"
      },
      "source": [
        "# Section 1 : Image Analysis - The Convoluted Convolutional Neural Networks\n",
        "\n",
        "In this section, we will make neural networks that learn to recognize emotion from face images (It is important for skynet to understand emotion before it takes over the world)\n",
        "\n",
        "Here is a sample image from the dataset we will be using : \n",
        "\n",
        "![image.png](data:image/png;base64,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)\n",
        "\n",
        "You can use your human knowledge to guess that this person looks pretty **surprised**. Let's see how we can build a model which can do that"
      ]
    },
    {
      "cell_type": "markdown",
      "metadata": {
        "id": "X5OVgIAsi1qM",
        "colab_type": "text"
      },
      "source": [
        "## 1.1 : Data, data and more data\n",
        "The data for this part consists of 48x48 pixel grayscale images of faces. The faces have been automatically registered so that the face is more or less centered and occupies about the same amount of space in each image. Your task here is to categorize each face based on the emotion shown in the facial expression in to one of seven categories : \n",
        "\n",
        "0.   Angry\n",
        "1.   Disgust\n",
        "2.   Fear\n",
        "3.   Happy\n",
        "4.   Sad\n",
        "5.   Surprise\n",
        "6.   Neutral\n",
        "\n",
        "train.csv contains two columns, \"emotion\" and \"pixels\". The \"emotion\" column contains a numeric code ranging from 0 to 6, inclusive, for the emotion that is present in the image. The \"pixels\" column contains a string surrounded in quotes for each image. The contents of this string a space-separated pixel values in row major order. \n"
      ]
    },
    {
      "cell_type": "markdown",
      "metadata": {
        "id": "rpENl2V2AWag",
        "colab_type": "text"
      },
      "source": [
        "**Note:** First make sure that you have the runtime setup to use GPUs. \n",
        "Click on the runtime tab -> Change runtime type -> Select hardware accelerator as GPU"
      ]
    },
    {
      "cell_type": "code",
      "metadata": {
        "id": "57P9IwkQmHu9",
        "colab_type": "code",
        "colab": {}
      },
      "source": [
        "# Downloading the data\n",
        "%%capture\n",
        "!wget https://cis.upenn.edu/~cis545/data/face_expression_data.csv.zip\n",
        "!unzip face_expression_data.csv.zip"
      ],
      "execution_count": 0,
      "outputs": []
    },
    {
      "cell_type": "code",
      "metadata": {
        "id": "-wSiD1lS2KQl",
        "colab_type": "code",
        "colab": {}
      },
      "source": [
        "# Read in the data\n",
        "\n",
        "import pandas as pd\n",
        "import cv2\n",
        "import numpy as np\n",
        " \n",
        "dataset_path = 'face_expression_data.csv'\n",
        "image_size=(48,48)\n",
        "\n",
        "def load_face_expression_dataset():\n",
        "    '''\n",
        "        TODO: Complete this function\n",
        "        1. Read in the data from dataset_path into a pandas dataframe\n",
        "        2. convert the 'pixels' column to a list and convert pixel sequence of each row in image of dimension 48*48\n",
        "    '''\n",
        "    data = pd.read_csv(dataset_path)\n",
        "    pixels = data['pixels'].tolist()\n",
        "    width, height = image_size\n",
        "    faces = []\n",
        "    for pixel_sequence in pixels:\n",
        "      face_pixels = pixel_sequence.split(' ')\n",
        "        #TODO: split pixel sequence on a separator to get the face pixels \n",
        "      face_list = np.asarray(face_pixels)\n",
        "      face_list = np.reshape(face_list, (width, height))\n",
        "        #TODO: Convert face list to a numpy array and reshape into the shape (width, height)\n",
        "      face = np.resize(face_list, (48,48))\n",
        "      #cv2.imshow(face)\n",
        "      faces.append(face)\n",
        "        #TODO: Resize the face to the image_size defined above. \n",
        "        #Hint: cv2 might have something you need\n",
        "        #TODO: Add the face back to faces array\n",
        "        #raise NotImplementedError\n",
        "\n",
        "    faces = np.asarray(faces)\n",
        "    faces = np.expand_dims(faces, -1)\n",
        "    # Get one hot encoded emotions\n",
        "    emotions = pd.get_dummies(data['emotion']).as_matrix()\n",
        "    return faces, emotions\n",
        " \n",
        "def preprocess_input(face_image):\n",
        "    faces = face_image.astype(float)\n",
        "    faces = np.true_divide(faces, 255)\n",
        "    faces = np.subtract(faces, 0.5)\n",
        "    faces = np.multiply(faces, 2)\n",
        "    return faces\n",
        "\n",
        "    # It is a standard way to pre-process images by scaling them between -1 to 1. \n",
        "    # Face images are scaled to [0,1] by dividing it by 255 (Make sure to convert integer images to floats before)\n",
        "    # Further, subtraction by 0.5 and multiplication by 2 changes the range to [-1,1]\n",
        "\n"
      ],
      "execution_count": 0,
      "outputs": []
    },
    {
      "cell_type": "code",
      "metadata": {
        "id": "lNsDoH7hbMt7",
        "colab_type": "code",
        "outputId": "0572ab85-6679-48d1-b14b-f06582bba351",
        "colab": {
          "base_uri": "https://localhost:8080/",
          "height": 54
        }
      },
      "source": [
        "# Call the functions to create the dataset \n",
        "# Might take a little bit to run\n",
        "faces, emotions = load_face_expression_dataset()\n",
        "faces = preprocess_input(faces)\n"
      ],
      "execution_count": 5,
      "outputs": [
        {
          "output_type": "stream",
          "text": [
            "/usr/local/lib/python3.6/dist-packages/ipykernel_launcher.py:36: FutureWarning: Method .as_matrix will be removed in a future version. Use .values instead.\n"
          ],
          "name": "stderr"
        }
      ]
    },
    {
      "cell_type": "markdown",
      "metadata": {
        "id": "0hMhQ_gfT7jJ",
        "colab_type": "text"
      },
      "source": [
        "Report the number of faces in the dataset in the cell below"
      ]
    },
    {
      "cell_type": "code",
      "metadata": {
        "id": "U_I-4QgBT1tc",
        "colab_type": "code",
        "colab": {}
      },
      "source": [
        "number_examples = faces.shape[0]"
      ],
      "execution_count": 0,
      "outputs": []
    },
    {
      "cell_type": "code",
      "metadata": {
        "id": "EUK4Dp70VSup",
        "colab_type": "code",
        "outputId": "ce30736e-0bd4-460e-8dfa-ad86b5f2b6e0",
        "colab": {
          "base_uri": "https://localhost:8080/",
          "height": 85
        }
      },
      "source": [
        "# Data preprocessing sanity test - worth 5 points\n",
        "grader.grade(test_case_id = '1.1a', answer = (number_examples, faces[0]))"
      ],
      "execution_count": 49,
      "outputs": [
        {
          "output_type": "stream",
          "text": [
            "Correct! You earned 5/5 points. You are a star!\n",
            "\n",
            "Your submission has been succesfully recorded in the gradebook.\n",
            "               \n"
          ],
          "name": "stdout"
        }
      ]
    },
    {
      "cell_type": "markdown",
      "metadata": {
        "id": "AFygzCaRUzv-",
        "colab_type": "text"
      },
      "source": [
        "Split the data into a training and testing subset. Use a random 80-20 split (80% of the data will form the training set and 20% of the data will form the test set). The test set will consist of images which the neural network has never seen before and they will be used to evaluate the performance of the network. Split the dataset into \n",
        "\n",
        "```\n",
        "x_train, y_train -> The faces and corresponding emotions in the training set\n",
        "x_test, y_test-> The faces and corresponding emotions in the test set\n",
        "```\n",
        "\n"
      ]
    },
    {
      "cell_type": "code",
      "metadata": {
        "id": "3htKdr8X5Vg2",
        "colab_type": "code",
        "colab": {}
      },
      "source": [
        "# Hint: sklearn is your friend!\n",
        "import sklearn.model_selection\n",
        "\n",
        "x_train, x_test, y_train, y_test = sklearn.model_selection.train_test_split(faces, emotions, test_size = 0.20, shuffle = True)"
      ],
      "execution_count": 0,
      "outputs": []
    },
    {
      "cell_type": "code",
      "metadata": {
        "id": "6EBnkh2kBYqF",
        "colab_type": "code",
        "colab": {
          "base_uri": "https://localhost:8080/",
          "height": 51
        },
        "outputId": "fc12c645-ea9e-451d-97ba-2d3c9b774bb7"
      },
      "source": [
        "print(x_train.shape)\n",
        "#x_train_flat = x_train.reshape(28709, 2304)\n",
        "y_train.shape"
      ],
      "execution_count": 8,
      "outputs": [
        {
          "output_type": "stream",
          "text": [
            "(28709, 48, 48, 1)\n"
          ],
          "name": "stdout"
        },
        {
          "output_type": "execute_result",
          "data": {
            "text/plain": [
              "(28709, 7)"
            ]
          },
          "metadata": {
            "tags": []
          },
          "execution_count": 8
        }
      ]
    },
    {
      "cell_type": "code",
      "metadata": {
        "id": "kZyXG3u_EgQl",
        "colab_type": "code",
        "outputId": "b17c469a-d88a-40d6-9543-50d8fb5a2817",
        "colab": {
          "base_uri": "https://localhost:8080/",
          "height": 85
        }
      },
      "source": [
        "#Test the data split - worth 3 points\n",
        "grader.grade(test_case_id = '1.1b', answer = (x_train.shape, y_train.shape, x_test.shape, y_test.shape, number_examples))"
      ],
      "execution_count": 50,
      "outputs": [
        {
          "output_type": "stream",
          "text": [
            "Correct! You earned 3/3 points. You are a star!\n",
            "\n",
            "Your submission has been succesfully recorded in the gradebook.\n",
            "               \n"
          ],
          "name": "stdout"
        }
      ]
    },
    {
      "cell_type": "markdown",
      "metadata": {
        "id": "JCLItOWWc6ob",
        "colab_type": "text"
      },
      "source": [
        "### 1.1.1 : Understanding the data\n",
        "\n",
        "We have our training and testing data but we humans don't really understand binary that well. So let's visualize what our data is by plotting some data points\n",
        "\n",
        "\n",
        "\n",
        "![alt text](https://www.pathinteractive.com/wp-content/uploads/2018/01/data-mining-img-2-3.jpg)"
      ]
    },
    {
      "cell_type": "code",
      "metadata": {
        "id": "u2UYEBox5jDM",
        "colab_type": "code",
        "outputId": "4df7c41d-c742-42f1-a7e1-895cc608e0d4",
        "colab": {
          "base_uri": "https://localhost:8080/",
          "height": 234
        }
      },
      "source": [
        "# Visualize 5 images in the dataset with their corresponding emotion label\n",
        "%matplotlib inline\n",
        "\n",
        "import matplotlib.pyplot as plt\n",
        "import random\n",
        "\n",
        "num_points = 5\n",
        "plt.gray()\n",
        "emotion_names = ['Angry', 'Disgust', 'Fear', 'Happy', 'Sad', 'Surprise','Neutral']\n",
        "\n",
        "plt.rcParams['figure.figsize'] = (9,9) # Make the figures a bit bigger\n",
        "\n",
        "for i in range(5):\n",
        "  plt.subplot(3,3, i+1)\n",
        "  num = random.randint(0, len(faces))\n",
        "  plt.imshow(faces[num].reshape(48,48))\n",
        "  index = np.where(emotions[num] == 1)\n",
        "  emotion = emotion_names[index[0][0]]\n",
        "  plt.title(\"Class {}\".format(emotion))\n",
        "\n",
        "plt.tight_layout(0)"
      ],
      "execution_count": 0,
      "outputs": [
        {
          "output_type": "display_data",
          "data": {
            "image/png": "[encoded data removed]",
            "text/plain": [
              "<Figure size 432x288 with 5 Axes>"
            ]
          },
          "metadata": {
            "tags": []
          }
        }
      ]
    },
    {
      "cell_type": "markdown",
      "metadata": {
        "id": "80zW18iMhV48",
        "colab_type": "text"
      },
      "source": [
        "### 1.1.2 : Emotion Frequencies\n",
        "\n",
        "Create a dictionary with the number of faces belonging to each of the emotions. "
      ]
    },
    {
      "cell_type": "code",
      "metadata": {
        "id": "CHKatqfm6qIN",
        "colab_type": "code",
        "outputId": "57da81a0-59c6-4207-f04a-d53b1ba6775d",
        "colab": {
          "base_uri": "https://localhost:8080/",
          "height": 34
        }
      },
      "source": [
        "def create_emotion_count_dict(x_train, y_train, emotion_names):\n",
        "    emotion_count_dict = {}\n",
        "    for i, face in enumerate(x_train):\n",
        "      index = np.where(y_train[i] == 1)\n",
        "      emotion = emotion_names[index[0][0]]\n",
        "      if emotion in emotion_count_dict:\n",
        "        emotion_count_dict[emotion] +=1\n",
        "      else:\n",
        "        emotion_count_dict[emotion] = 1\n",
        "    return emotion_count_dict\n",
        "\n",
        "emotion_count_dict = create_emotion_count_dict(faces, emotions, emotion_names)\n",
        "print(emotion_count_dict)"
      ],
      "execution_count": 0,
      "outputs": [
        {
          "output_type": "stream",
          "text": [
            "{'Angry': 4953, 'Fear': 5121, 'Sad': 6077, 'Neutral': 6198, 'Happy': 8989, 'Surprise': 4002, 'Disgust': 547}\n"
          ],
          "name": "stdout"
        }
      ]
    },
    {
      "cell_type": "markdown",
      "metadata": {
        "id": "sIHsMudHFSui",
        "colab_type": "text"
      },
      "source": [
        "Which emotion is the most frequent in the dataset? which is the least? Are the number of examples for each class balanced? Think if this will affect model performance in any way"
      ]
    },
    {
      "cell_type": "code",
      "metadata": {
        "id": "7q6Sw3PGFR_s",
        "colab_type": "code",
        "colab": {}
      },
      "source": [
        "\n",
        "most_frequent_class = max(emotion_count_dict, key = emotion_count_dict.get)\n",
        "least_frequent_class = min(emotion_count_dict, key = emotion_count_dict.get)"
      ],
      "execution_count": 0,
      "outputs": []
    },
    {
      "cell_type": "code",
      "metadata": {
        "id": "BaVka3WbjG98",
        "colab_type": "code",
        "outputId": "143abfff-20b6-4740-f495-2cc7d390df01",
        "colab": {
          "base_uri": "https://localhost:8080/",
          "height": 85
        }
      },
      "source": [
        "#Test the created dictionary and frequency analysis - worth 5 points\n",
        "grader.grade(test_case_id = '1.1.2', answer = (emotion_count_dict, most_frequent_class))\n"
      ],
      "execution_count": 0,
      "outputs": [
        {
          "output_type": "stream",
          "text": [
            "Correct! You earned 5/5 points. You are a star!\n",
            "\n",
            "Your submission has been succesfully recorded in the gradebook.\n",
            "               \n"
          ],
          "name": "stdout"
        }
      ]
    },
    {
      "cell_type": "markdown",
      "metadata": {
        "id": "PnDjErVl2mlp",
        "colab_type": "text"
      },
      "source": [
        "We will create a batch of images which stacks batch_size number of images together and passes them to the network together to speed up the training process. Creating these \"mini batches\" and when doing gradient descent with these mini batches i.e. mini-batch gradient descent seeks to find a balance between the robustness of stochastic gradient descent and the efficiency of batch gradient descent. \n",
        "\n",
        "Optional: If you are interested in learning about mini batch gradient descent, read up [this](https://machinelearningmastery.com/gentle-introduction-mini-batch-gradient-descent-configure-batch-size/) post!"
      ]
    },
    {
      "cell_type": "code",
      "metadata": {
        "id": "XAVZpyS41LgQ",
        "colab_type": "code",
        "outputId": "54ed6aeb-402d-44fe-e1fa-956e46955059",
        "colab": {
          "base_uri": "https://localhost:8080/",
          "height": 97
        }
      },
      "source": [
        "from keras.preprocessing import image\n",
        "from keras.preprocessing.image import ImageDataGenerator\n",
        "\n",
        "# Create batched data generator\n",
        "batch_size = 8\n",
        "gen = ImageDataGenerator()\n",
        "# Create a generator function for the training data\n",
        "train_generator = gen.flow(x_train, y_train, batch_size=batch_size)"
      ],
      "execution_count": 9,
      "outputs": [
        {
          "output_type": "stream",
          "text": [
            "Using TensorFlow backend.\n"
          ],
          "name": "stderr"
        },
        {
          "output_type": "display_data",
          "data": {
            "text/html": [
              "<p style=\"color: red;\">\n",
              "The default version of TensorFlow in Colab will soon switch to TensorFlow 2.x.<br>\n",
              "We recommend you <a href=\"https://www.tensorflow.org/guide/migrate\" target=\"_blank\">upgrade</a> now \n",
              "or ensure your notebook will continue to use TensorFlow 1.x via the <code>%tensorflow_version 1.x</code> magic:\n",
              "<a href=\"https://colab.research.google.com/notebooks/tensorflow_version.ipynb\" target=\"_blank\">more info</a>.</p>\n"
            ],
            "text/plain": [
              "<IPython.core.display.HTML object>"
            ]
          },
          "metadata": {
            "tags": []
          }
        }
      ]
    },
    {
      "cell_type": "markdown",
      "metadata": {
        "id": "qhqUl7X2jHU7",
        "colab_type": "text"
      },
      "source": [
        "## 1.2 : Convoluted Convolutional Neural Networks\n",
        "\n",
        "\n",
        "Now we know what the data is like. Let's get to building a model with keras which can detect the emotions from these face images. We will be using a CNN as our model.\n",
        "\n",
        "\n",
        "**So, what are CNNs?**\n",
        "\n",
        "Convolutional Neural Networks are very similar to ordinary Neural Networks from the previous chapter: they are made up of neurons that have learnable weights and biases. Each neuron receives some inputs, performs a dot product and optionally follows it with a non-linearity. The whole network still expresses a single differentiable score function: from the raw image pixels on one end to class scores at the other. \n",
        "\n",
        "So what changes? ConvNet architectures make the explicit assumption that the inputs are images, which allows us to encode certain properties into the architecture. These then make the forward function more efficient to implement and vastly reduce the amount of parameters in the network.\n",
        "\n",
        "If you wanna know more about how CNNs function and see some cool visualizations, we would highly recommend [this](http://cs231n.github.io/convolutional-networks/) page \n",
        "\n",
        "\n"
      ]
    },
    {
      "cell_type": "code",
      "metadata": {
        "id": "U41iU5Es_6vp",
        "colab_type": "code",
        "colab": {}
      },
      "source": [
        "# Some technical jargon to set up tensorflow session for keras and make it use the GPU\n",
        "import tensorflow as tf\n",
        "import keras\n",
        "#cpu - gpu configuration\n",
        "config = tf.ConfigProto( device_count = {'GPU': 1 , 'CPU': 1} ) #max: 1 gpu, 56 cpu\n",
        "sess = tf.Session(config=config) \n",
        "keras.backend.set_session(sess)"
      ],
      "execution_count": 0,
      "outputs": []
    },
    {
      "cell_type": "markdown",
      "metadata": {
        "id": "rxujrMGKGX3A",
        "colab_type": "text"
      },
      "source": [
        "## 1.2.1 : Logical Logistic Regression - Baseline\n",
        "\n",
        "To see how well CNNs work for such problems, we need to compare them to a baseline model. Let's first try solving this problem with a Logistic Regression classifier solving the 7-class multiclass classification problem.\n",
        "\n",
        "Define a logistic regression model in keras and fit that to the training data\n",
        "\n",
        "model.compile() function can assign a optimizer, loss function and metrics you will be using for your problem.\n",
        "Use that function to assign SGD (Stochastic Gradient Descent) as the optimizer, categorical cross entropy loss as the objective function and train the model for 20 epochs.\n",
        "\n"
      ]
    },
    {
      "cell_type": "markdown",
      "metadata": {
        "colab_type": "text",
        "id": "Zjpsj6XeJjCR"
      },
      "source": [
        "Since, this is a multi-class classification problem, we will use the categorical cross-entropy loss function. It is defined as:\n",
        "\n",
        "![image.png](data:image/png;base64,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)\n",
        "\n",
        "Luckily, we don't have to write it ourselves, we will use the implementation within keras.\n",
        "\n",
        "Once the model has been training, compute and report the model accuracy on the test set."
      ]
    },
    {
      "cell_type": "code",
      "metadata": {
        "id": "thJbiaqOHYyr",
        "colab_type": "code",
        "colab": {
          "base_uri": "https://localhost:8080/",
          "height": 734
        },
        "outputId": "6d36fc76-07e2-480d-9a69-21327596139f"
      },
      "source": [
        "''' \n",
        "    TODO: 1. Define the model - You would want to first flatten the 48,48 image data into a single dimensional vector\n",
        "    2. Add stochastic gradient descent optimizer, 'categorical_crossentropy' as the objective/loss function\n",
        "    3. Train it using SGD for 20 epochs (20 passes through the training data)\n",
        "    4. Get the accuracy on the test set and assign it to lr_test_accuracy\n",
        "'''\n",
        "from keras.models import Sequential\n",
        "from keras.layers import Dense, Activation, Dropout, Flatten\n",
        "\n",
        "lr_model = Sequential()\n",
        "lr_model.add(Flatten())\n",
        "lr_model.add(Activation('relu'))\n",
        "lr_model.add(Dense(7, input_dim = 2304))\n",
        "lr_model.compile(loss='categorical_crossentropy', optimizer='sgd', metrics=['accuracy'])\n",
        "lr_model.fit(x_train, y_train, batch_size=batch_size, epochs = 20)\n",
        "score, lr_test_accuracy = lr_model.evaluate(x_test, y_test)\n"
      ],
      "execution_count": 30,
      "outputs": [
        {
          "output_type": "stream",
          "text": [
            "Epoch 1/20\n",
            "28709/28709 [==============================] - 14s 473us/step - loss: 5.4261 - acc: 0.1598\n",
            "Epoch 2/20\n",
            "28709/28709 [==============================] - 13s 464us/step - loss: 9.5313 - acc: 0.1794\n",
            "Epoch 3/20\n",
            "28709/28709 [==============================] - 13s 465us/step - loss: 7.6380 - acc: 0.1950\n",
            "Epoch 4/20\n",
            "28709/28709 [==============================] - 13s 457us/step - loss: 7.5045 - acc: 0.2182\n",
            "Epoch 5/20\n",
            "28709/28709 [==============================] - 13s 459us/step - loss: 7.2113 - acc: 0.2372\n",
            "Epoch 6/20\n",
            "28709/28709 [==============================] - 13s 458us/step - loss: 5.6695 - acc: 0.2483\n",
            "Epoch 7/20\n",
            "28709/28709 [==============================] - 13s 461us/step - loss: 5.3912 - acc: 0.2484\n",
            "Epoch 8/20\n",
            "28709/28709 [==============================] - 13s 455us/step - loss: 5.2963 - acc: 0.2484\n",
            "Epoch 9/20\n",
            "28709/28709 [==============================] - 13s 460us/step - loss: 5.2718 - acc: 0.2484\n",
            "Epoch 10/20\n",
            "28709/28709 [==============================] - 13s 453us/step - loss: 5.3378 - acc: 0.2484\n",
            "Epoch 11/20\n",
            "28709/28709 [==============================] - 13s 461us/step - loss: 5.6083 - acc: 0.2484\n",
            "Epoch 12/20\n",
            "28709/28709 [==============================] - 14s 473us/step - loss: 6.3103 - acc: 0.2484\n",
            "Epoch 13/20\n",
            "28709/28709 [==============================] - 13s 457us/step - loss: 7.6388 - acc: 0.2484\n",
            "Epoch 14/20\n",
            "28709/28709 [==============================] - 13s 464us/step - loss: 6.6974 - acc: 0.2179\n",
            "Epoch 15/20\n",
            "28709/28709 [==============================] - 13s 459us/step - loss: 5.7435 - acc: 0.1962\n",
            "Epoch 16/20\n",
            "28709/28709 [==============================] - 13s 457us/step - loss: 5.6979 - acc: 0.1975\n",
            "Epoch 17/20\n",
            "28709/28709 [==============================] - 13s 461us/step - loss: 5.6016 - acc: 0.1997\n",
            "Epoch 18/20\n",
            "28709/28709 [==============================] - 13s 458us/step - loss: 5.6369 - acc: 0.2010\n",
            "Epoch 19/20\n",
            "28709/28709 [==============================] - 13s 457us/step - loss: 5.6969 - acc: 0.2037\n",
            "Epoch 20/20\n",
            "28709/28709 [==============================] - 13s 461us/step - loss: 5.7699 - acc: 0.2060\n"
          ],
          "name": "stdout"
        },
        {
          "output_type": "execute_result",
          "data": {
            "text/plain": [
              "<keras.callbacks.History at 0x7f2c86b084a8>"
            ]
          },
          "metadata": {
            "tags": []
          },
          "execution_count": 30
        }
      ]
    },
    {
      "cell_type": "code",
      "metadata": {
        "id": "HMooHO5lD_Wc",
        "colab_type": "code",
        "colab": {
          "base_uri": "https://localhost:8080/",
          "height": 34
        },
        "outputId": "aecfa6c2-09c8-41cb-cdfb-21ea7332ac4c"
      },
      "source": [
        "score, lr_test_accuracy = lr_model.evaluate(x_test, y_test)"
      ],
      "execution_count": 31,
      "outputs": [
        {
          "output_type": "stream",
          "text": [
            "7178/7178 [==============================] - 1s 80us/step\n"
          ],
          "name": "stdout"
        }
      ]
    },
    {
      "cell_type": "code",
      "metadata": {
        "id": "tpCm09P7I4fU",
        "colab_type": "code",
        "colab": {
          "base_uri": "https://localhost:8080/",
          "height": 34
        },
        "outputId": "c50124eb-16cc-43e1-c0dc-aea50e1b1bce"
      },
      "source": [
        "lr_test_accuracy\n"
      ],
      "execution_count": 32,
      "outputs": [
        {
          "output_type": "execute_result",
          "data": {
            "text/plain": [
              "0.21078294789842592"
            ]
          },
          "metadata": {
            "tags": []
          },
          "execution_count": 32
        }
      ]
    },
    {
      "cell_type": "markdown",
      "metadata": {
        "id": "QVu7jaHALnrN",
        "colab_type": "text"
      },
      "source": [
        "Does the logistic regression fit well to the data? Think about whether this is underfitting or overfitting? Think about if we need more representational power or we need more regularization to make it better?"
      ]
    },
    {
      "cell_type": "code",
      "metadata": {
        "id": "Nd-1vON9MsKB",
        "colab_type": "code",
        "colab": {}
      },
      "source": [
        "underfit = True\n"
      ],
      "execution_count": 0,
      "outputs": []
    },
    {
      "cell_type": "code",
      "metadata": {
        "id": "822nP2eHNPJY",
        "colab_type": "code",
        "colab": {
          "base_uri": "https://localhost:8080/",
          "height": 85
        },
        "outputId": "8686bca1-39d3-41a9-a54c-e2da146579e2"
      },
      "source": [
        "# Test for logistic regression model, model accuracy - worth 5 points\n",
        "assert(lr_model != None)\n",
        "grader.grade('1.2.1', (lr_test_accuracy, underfit))"
      ],
      "execution_count": 34,
      "outputs": [
        {
          "output_type": "stream",
          "text": [
            "Correct! You earned 5/5 points. You are a star!\n",
            "\n",
            "Your submission has been succesfully recorded in the gradebook.\n",
            "               \n"
          ],
          "name": "stdout"
        }
      ]
    },
    {
      "cell_type": "markdown",
      "metadata": {
        "id": "XyMvnXrdzFHK",
        "colab_type": "text"
      },
      "source": [
        "### 1.2.2 : Define the CNN model\n",
        "\n",
        "Now we know logistic regression doesn't do great on this task. We saw that we need more representation power => we need more trainable parameters => neural networks might help us here!\n",
        "\n",
        "Now, define a CNN model with Keras with the following layers:\n",
        "\n",
        "\n",
        "1.   Convolution with 64 filters with kernel size 5x5 followed by ReLU activation function\n",
        "2.   Max Pool with filter size/pool size = 5 and stride = 2\n",
        "3.   Convolution with 64 filters with kernel size 3x3 followed by ReLU activation function\n",
        "4.   Max Pool with filter size/pool size = 3 and stride = 2\n",
        "5.   Convolution with 128 filters with kernel size 3x3 followed by ReLU activation function\n",
        "6.   Max Pool with filter size/pool size = 3 and stride = 2\n",
        "7. Flatten layer to transform 3D layers to a single tensor/vector\n",
        "8. Fully Connected with 1024 neurons and ReLU activation function\n",
        "8. Fully Connected with 1024 neurons and ReLU activation function\n",
        "8. Fully Connected with 7 neurons (one for each class) and softmax activation function\n",
        "\n",
        "The model output will be 7 class probabilities.\n",
        "\n",
        "\n"
      ]
    },
    {
      "cell_type": "code",
      "metadata": {
        "id": "xId8fNNMjJ5h",
        "colab_type": "code",
        "colab": {}
      },
      "source": [
        "# TODO : Create the model structure using Keras\n",
        "from keras.models import Sequential\n",
        "from keras.layers import Conv2D, MaxPooling2D, AveragePooling2D\n",
        "from keras.layers import Dense, Activation, Dropout, Flatten\n",
        "\n",
        "# Initialize keras sequential model\n",
        "model = Sequential()\n",
        "num_classes = 7\n",
        "\n",
        "# Now we will create the layers for the model and add them to the sequential model\n",
        "\n",
        "'''\n",
        "Create the 1st convolution layer with 64 filters with kernel size 5x5\n",
        "followed by a max pooling with a stride = 2 and pool_size = 5\n",
        "(We created the first one for you :D ) \n",
        "\n",
        "'''\n",
        "model.add(Conv2D(64, (5, 5), activation='relu', input_shape=(48,48,1)))\n",
        "model.add(MaxPooling2D(pool_size=(5,5), strides=(2, 2)))\n",
        "\n",
        "# TODO : Add the remaining convolutional and pooling layers\n",
        "\n",
        "model.add(Conv2D(64, (3, 3), activation='relu', input_shape=(48,48,1)))\n",
        "model.add(MaxPooling2D(pool_size=(3,3), strides=(2, 2)))\n",
        "\n",
        "model.add(Conv2D(128, (3, 3), activation='relu', input_shape=(48,48,1)))\n",
        "model.add(MaxPooling2D(pool_size=(3,3), strides=(2, 2)))\n",
        "\n",
        "# TODO: Add a flatten operation\n",
        "\n",
        "# TODO: Add the intermediate fully connected layers (Dense in keras)\n",
        "\n",
        "# TODO: Add the final fully connected layer with the softmax activation function\n"
      ],
      "execution_count": 0,
      "outputs": []
    },
    {
      "cell_type": "markdown",
      "metadata": {
        "id": "XgpvmQIl-zeN",
        "colab_type": "text"
      },
      "source": [
        "### 1.2.3 : Trainable Parameters\n",
        "\n",
        "Now we have defined a model, but it hasn't seen any data yet. We now want to pass it the training data and update the model parameters using gradient descent. First let's see how many trainable parameters it has."
      ]
    },
    {
      "cell_type": "code",
      "metadata": {
        "id": "SnihVKwD-yek",
        "colab_type": "code",
        "colab": {}
      },
      "source": [
        "model.summary()"
      ],
      "execution_count": 0,
      "outputs": []
    },
    {
      "cell_type": "code",
      "metadata": {
        "id": "yKoPwlATCRcx",
        "colab_type": "code",
        "colab": {}
      },
      "source": [
        "# TODO: Report the number of trainable parameters \n",
        "trainable_parameters = None"
      ],
      "execution_count": 0,
      "outputs": []
    },
    {
      "cell_type": "code",
      "metadata": {
        "id": "nfN3kUx2Cato",
        "colab_type": "code",
        "colab": {}
      },
      "source": [
        "# Test CNN model creation, worth 5 points\n",
        "try:\n",
        "    assert(model != None and model.get_layer('dense_2') != None and model.get_layer('conv2d_3') != None)\n",
        "    grader.grade('1.2.3', trainable_parameters)\n",
        "except:\n",
        "    print(\"You probably didn't define your model correctly!\")"
      ],
      "execution_count": 0,
      "outputs": []
    },
    {
      "cell_type": "markdown",
      "metadata": {
        "id": "qyqXVUf2Chpq",
        "colab_type": "text"
      },
      "source": [
        "Now we initialize the optimizer along with our loss function i.e. the categorical cross-entropy loss function.\n",
        "\n",
        "Now use the model.compile() function to define the loss function, optimizer and the metrics like you did for logistic regression. "
      ]
    },
    {
      "cell_type": "code",
      "metadata": {
        "id": "yEPtHpXzDjwF",
        "colab_type": "code",
        "colab": {}
      },
      "source": [
        "# TODO : associate the loss function, optimizer and accuracy as our metric for evaluation\n"
      ],
      "execution_count": 0,
      "outputs": []
    },
    {
      "cell_type": "markdown",
      "metadata": {
        "id": "KzJUINhJIfkN",
        "colab_type": "text"
      },
      "source": [
        "### 1.2.4 : Model Training\n",
        "Now fit the model to the training data using train_generator you created before. Run it for 20 epochs (An epoch is one pass through the data). It should take ~ 15 mins if you are doing everything right. You can take a break while the model trains!\n",
        "\n",
        "To visualize your loss and accuracy in realtime, log values to tensorboard to see graphs for the loss and accuracy. Read up how to connect your keras model to log values to tensorboard here : https://www.tensorflow.org/tensorboard/get_started\n"
      ]
    },
    {
      "cell_type": "code",
      "metadata": {
        "id": "lBDJrFCbEcJQ",
        "colab_type": "code",
        "colab": {}
      },
      "source": [
        "epochs = 20\n",
        "\n",
        "# TODO : Fit the model to the training data and run the training for 20 epochs\n"
      ],
      "execution_count": 0,
      "outputs": []
    },
    {
      "cell_type": "markdown",
      "metadata": {
        "id": "b0uvvYxo1c_2",
        "colab_type": "text"
      },
      "source": [
        "Report the training loss and accuracy after the first and the last epoch. Is your model able to learn? i.e. Does the loss decrease and the accuracy increase after every epoch?\n",
        "\n",
        "Please be honest in reporting the accuracies, we will be penalizing falsely reported scores heavily.\n",
        "\n",
        "Is the model better than random guessing on images it has seen before?"
      ]
    },
    {
      "cell_type": "code",
      "metadata": {
        "id": "zMCpk9DT1RYO",
        "colab_type": "code",
        "colab": {}
      },
      "source": [
        "# TODO: Fill in the values for these variables\n",
        "\n",
        "training_loss_epoch_1 = None\n",
        "training_accuracy_epoch_1 = None\n",
        "training_loss_final = None\n",
        "training_accuracy_final = None\n",
        "\n",
        "# Make True if model better than random guessing, False otherwise\n",
        "is_model_better_than_random = None"
      ],
      "execution_count": 0,
      "outputs": []
    },
    {
      "cell_type": "code",
      "metadata": {
        "id": "N2NxRby0I-Ia",
        "colab_type": "code",
        "colab": {}
      },
      "source": [
        "# Test the trained model\n",
        "actual_loss, actual_acc = model.evaluate(x_train, y_train)\n",
        "answer = training_loss_epoch_1, training_accuracy_epoch_1, training_loss_final, training_accuracy_final, is_model_better_than_random, actual_acc, actual_loss\n",
        "grader.grade('1.2.4', answer)"
      ],
      "execution_count": 0,
      "outputs": []
    },
    {
      "cell_type": "markdown",
      "metadata": {
        "id": "Zp2h5EzMC5JM",
        "colab_type": "text"
      },
      "source": [
        "## 1.3 : Inference Time!\n",
        "\n",
        "We would actually like to see how the results look like, let's plot some test images and the predictions of out model. Create a function which takes in the test images and the model and returns the predicted emotion label."
      ]
    },
    {
      "cell_type": "code",
      "metadata": {
        "id": "eU-lc5RLJXCV",
        "colab_type": "code",
        "colab": {}
      },
      "source": [
        "def get_predicted_emotion_labels(x_test, model):\n",
        "    # TODO: Implement the function to return the predicted emotion labels for the model on the test set\n",
        "    raise NotImplementedError\n",
        "y_pred = get_predicted_emotion_labels(x_test, model)\n",
        "y_pred"
      ],
      "execution_count": 0,
      "outputs": []
    },
    {
      "cell_type": "code",
      "metadata": {
        "id": "4DkBMcA0Q4Bo",
        "colab_type": "code",
        "colab": {}
      },
      "source": [
        "# Testing get_predicted_emotion_labels function - worth 2 points\n",
        "\n",
        "y_pred_test = get_predicted_emotion_labels(x_test, model)\n",
        "grader.grade('1.3.0', (x_test.shape, y_pred_test))"
      ],
      "execution_count": 0,
      "outputs": []
    },
    {
      "cell_type": "markdown",
      "metadata": {
        "id": "GGIdOjtbVay8",
        "colab_type": "text"
      },
      "source": [
        "Now plot 5-10 face images sampled randomly and print the predicted and actual emotion strings (the actual emotion \"angry\" etc. rather than the numeric value) for those images. You can get the corresponding emotion predictions and the labels from the function created above.\n",
        "\n",
        "Hint: Remember that the y_test labels are one-hot encoded where as y_pred labels are integer values\n",
        "You can convert y_test to integers by doing an argmax along axis 1 (along the columns)"
      ]
    },
    {
      "cell_type": "code",
      "metadata": {
        "id": "zT3dwbIVHelj",
        "colab_type": "code",
        "colab": {}
      },
      "source": [
        "# TODO: Plot test images and print predicted and actual emotions\n",
        "\n",
        "def plt_test_images(x_test, y_test, y_pred, emotion_names, num_points = 5):\n",
        "    raise NotImplementedError\n",
        "    \n",
        "plt_test_images(x_test, y_test, y_pred, emotion_names, num_points = 5)"
      ],
      "execution_count": 0,
      "outputs": []
    },
    {
      "cell_type": "markdown",
      "metadata": {
        "id": "3i3FIrl6I1pI",
        "colab_type": "text"
      },
      "source": [
        "### 1.3.1 Accuracy\n",
        "\n",
        "Now let's evaluate how the model does on data it has never seen before. Evaluate the model performance on the test set and report the accuracy. \n",
        "Again, please be honest in reporting the accuracy, if the reported accuracy doesn't match the actual accuracy by a margin, we will penalize the entire submission heavily."
      ]
    },
    {
      "cell_type": "code",
      "metadata": {
        "id": "EIDfF35XI1JB",
        "colab_type": "code",
        "colab": {}
      },
      "source": [
        "# TODO : Evaluate the model on the test set and update the accuracy value in the variable below\n",
        "\n",
        "def compute_model_accuracy(y_test, y_pred):\n",
        "    raise NotImplementedError\n",
        "\n",
        "\n",
        "test_accuracy = compute_model_accuracy(y_test, y_pred)\n",
        "print(\"Test accuracy of the model is : \" , test_accuracy * 100, \" %\")"
      ],
      "execution_count": 0,
      "outputs": []
    },
    {
      "cell_type": "code",
      "metadata": {
        "id": "u2yLlATlleR_",
        "colab_type": "code",
        "colab": {}
      },
      "source": [
        "# Test model accuracy - worth 3 points\n",
        "test_accuracy_t = compute_model_accuracy(y_test, y_pred)\n",
        "answer = y_test, y_pred, test_accuracy_t\n",
        "grader.grade('1.3.1', answer)"
      ],
      "execution_count": 0,
      "outputs": []
    },
    {
      "cell_type": "markdown",
      "metadata": {
        "id": "X4g7i6WplFYW",
        "colab_type": "text"
      },
      "source": [
        "### 1.3.2 Confusion Matrix\n",
        "\n",
        "By definition a confusion matrix is a matrix of size NxN (where N is the number of classes) such that C[i,j] is equal to the number of observations known to be in group i  but predicted to be in group j. \n",
        "We then normalize this by dividing each cell in the matrix by the number of examples for the class i.e. the sum of element along the row for that cell\n",
        "\n",
        "Create a confusion matrix to evaluate your model on the test set. "
      ]
    },
    {
      "cell_type": "code",
      "metadata": {
        "id": "Urz7MNpxk-04",
        "colab_type": "code",
        "colab": {}
      },
      "source": [
        "def create_confusion_matrix(y_pred, y_true):\n",
        "    # Return a numpy array of shape NxN as described above\n",
        "    raise NotImplementedError\n",
        "\n",
        "confusion_matrix = create_confusion_matrix(y_pred, y_test)\n",
        "print(confusion_matrix)"
      ],
      "execution_count": 0,
      "outputs": []
    },
    {
      "cell_type": "code",
      "metadata": {
        "id": "c-Ce_2pYVjmy",
        "colab_type": "code",
        "colab": {}
      },
      "source": [
        "# Test Confusion Matrix - worth 5 points\n",
        "confusion_matrix_test = create_confusion_matrix(y_pred, y_test)\n",
        "\n",
        "grader.grade('1.3.2', confusion_matrix_test)\n"
      ],
      "execution_count": 0,
      "outputs": []
    },
    {
      "cell_type": "markdown",
      "metadata": {
        "id": "_z0OG5V5lAnA",
        "colab_type": "text"
      },
      "source": [
        "### 1.3.3 Precision - Recall\n",
        "\n",
        "Compute the precision and recall for each of the classes (i.e. each of the emotions)\n",
        "\n",
        "Return a vector (a numpy array of shape (7)) for each precision and recall .\n",
        "\n",
        "In case you need a refresher: \n",
        "\n",
        "![alt text](https://wikimedia.org/api/rest_v1/media/math/render/svg/26106935459abe7c266f7b1ebfa2a824b334c807)\n",
        "\n",
        "![alt text](https://wikimedia.org/api/rest_v1/media/math/render/svg/4c233366865312bc99c832d1475e152c5074891b)\n",
        "\n",
        "\n"
      ]
    },
    {
      "cell_type": "code",
      "metadata": {
        "id": "qkqZvHUvo3yj",
        "colab_type": "code",
        "colab": {}
      },
      "source": [
        "def compute_precision_recall(y_test, y_pred):\n",
        "    precision = np.zeros((7))\n",
        "    recall = np.zeros((7))\n",
        "    #TODO : Complete this function\n",
        "    \n",
        "    return precision, recall\n",
        "\n",
        "precision , recall = compute_precision_recall(y_test, y_pred)\n",
        "print(\"The precision vector = \", precision)\n",
        "print(\"The recall vector = \", recall)"
      ],
      "execution_count": 0,
      "outputs": []
    },
    {
      "cell_type": "code",
      "metadata": {
        "id": "sFJVnG20fe7_",
        "colab_type": "code",
        "colab": {}
      },
      "source": [
        "# Test precision-recall computation - worth 4 points\n",
        "\n",
        "precision_test , recall_test = compute_precision_recall(y_test, y_pred)\n",
        "grader.grade('1.3.3', (precision_test , recall_test))"
      ],
      "execution_count": 0,
      "outputs": []
    },
    {
      "cell_type": "markdown",
      "metadata": {
        "id": "6f3HjDxaqMDq",
        "colab_type": "text"
      },
      "source": [
        "Which class/emotion seems to have the best precision value? Which class/emotion has the worst?\n",
        "Can you think of a reason why there is a significant difference in the performance?"
      ]
    },
    {
      "cell_type": "code",
      "metadata": {
        "id": "-KEMuYhkqLVD",
        "colab_type": "code",
        "colab": {}
      },
      "source": [
        "best_class = \"\" # which is the class with the best precision value\n",
        "worst_class = \"\" # which is the class with the worst precision value\n",
        "reason = \"\" # why do you think this is happening? explain it in few words"
      ],
      "execution_count": 0,
      "outputs": []
    },
    {
      "cell_type": "code",
      "metadata": {
        "id": "9C_mEnPHVlle",
        "colab_type": "code",
        "colab": {}
      },
      "source": [
        "# Test the above answers - worth 2 points\n",
        "answer = emotion_names, precision_test, best_class, worst_class, reason \n",
        "grader.grade('1.3.3b', answer)"
      ],
      "execution_count": 0,
      "outputs": []
    },
    {
      "cell_type": "markdown",
      "metadata": {
        "id": "iv7lTtDNJNN9",
        "colab_type": "text"
      },
      "source": [
        "## 1.4 : Fun Inference Exercise\n",
        "\n",
        "![alt text](https://i.imgflip.com/dve0z.jpg)\n",
        "\n",
        "Click a selfie trying to express one of the emotions we are trying to train the model to recognize (best to crop the image to just have your beautiful face). If you are too shy and  don't want to click a selfie, download a face image with some expression from Google instead :P. Convert it to grayscale and scale the image down to (48,48). Now pass it to your model and get the model prediction for your selfie. Upload that to your colab session (Files tab on the left -> Upload) \n",
        "\n",
        "For example: Here is a selfie of your TA Mr. Craig Fan (in grayscale) and he's predicted to be happy with a probability of 0.99 by the model we trained - \n",
        "![image.png](data:image/png;base64,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)\n",
        "\n",
        "\n",
        "What emotion does your model predict for your selfie? Does the prediction make sense? If not, think what confused the model?"
      ]
    },
    {
      "cell_type": "code",
      "metadata": {
        "id": "AqjVTh9GK_DQ",
        "colab_type": "code",
        "colab": {}
      },
      "source": [
        "# TODO: Click a selfie, upload it to colab, pass it to the process_new_image function \n",
        "# and get the prediction of the model on the processed image \n",
        "from keras.preprocessing import image\n",
        "\n",
        "def process_new_image(filepath, target_size = (48,48)):\n",
        "    '''\n",
        "        TODO: Complete this function that loads the image from filepath provided (make sure you read it as grayscale),\n",
        "        scales it to the target_size, call the preprocess function (written in 1.1 ) to normalize the image array to be in [-1,1]\n",
        "        Hint: There are functions in the module imported at the start of this cell that you might find useful\n",
        "    '''\n",
        "    raise NotImplementedError\n",
        "\n",
        "def load_image_from_file_and_predict(filepath, model):\n",
        "    # Get the processed image file\n",
        "    processed_image = process_new_image(filepath)\n",
        "    # Add an extra dimension for the batch\n",
        "    processed_image = np.expand_dims(processed_image, axis = 0)\n",
        "    plt.imshow(processed_image[0,:,:,0])\n",
        "    plt.show()\n",
        "    # TODO : Get the model prediction\n",
        "    image_prediction = None\n",
        "    print(emotion_names[np.argmax(image_prediction)], \" with probability : \", np.max(image_prediction))\n",
        "    return emotion_names[np.argmax(image_prediction)]\n",
        "    \n",
        "#TODO : Add the path of your selfie file\n",
        "filepath = \"\" \n",
        "selfie_prediction_string = load_image_from_file_and_predict(filepath, model)\n",
        "\n"
      ],
      "execution_count": 0,
      "outputs": []
    },
    {
      "cell_type": "code",
      "metadata": {
        "id": "yFV5N2JEOoOx",
        "colab_type": "code",
        "colab": {}
      },
      "source": [
        "# Test process new image function - worth 5 points\n",
        "\n",
        "assert(filepath.strip() != \"\")\n",
        "new_processed_image = process_new_image(filepath)\n",
        "answer = new_processed_image, selfie_prediction_string, emotion_names\n",
        "grader.grade('1.4', answer)"
      ],
      "execution_count": 0,
      "outputs": []
    },
    {
      "cell_type": "markdown",
      "metadata": {
        "id": "czFnysbHwD5J",
        "colab_type": "text"
      },
      "source": [
        "That ends this section. You taught your deep learning model how to recognize emotions. You obviously are a star!\n",
        "\n",
        "\n",
        "The next section will teach you how to work with sequential data such as text, sounds, trajectories etc. We will be pivoting to a different sequential dataset for the next part. \n",
        "\n",
        "# Section 2: Sequential Data\n",
        "Just kidding, we are cutting out the next section in order to give you enough time to focus on the project. Good Luck!\n",
        "\n",
        "P.S. For those who are interested, the next part was gonna be emotion detection in texts using RNNs and LSTMs with GloVE word embeddings. \n",
        "\n",
        "Here's a short description: \n",
        "\n",
        "We will be teaching our model to learn the emotion from text data. We will implement a model which inputs a sentence (for example \"I had so much fun at lunch with the CIS545 TAs\") and finds the most appropriate emoji from a set of emojis to be used with this sentence ( 😄/🍴 )\n",
        "\n",
        "\n"
      ]
    },
    {
      "cell_type": "code",
      "metadata": {
        "id": "HWjQhAASXgzk",
        "colab_type": "code",
        "outputId": "e759b582-0569-480a-b8a6-249e638b6399",
        "colab": {
          "base_uri": "https://localhost:8080/",
          "height": 272
        }
      },
      "source": [
        "# If you want to know how to render emojis in the ipynb notebook, you might find this interesting:\n",
        "\n",
        "!pip install emoji \n",
        "import emoji\n",
        "\n",
        "# The emojis labels we were going to use\n",
        "emoji_map = {\"0\": \":heart:\",    \n",
        "                    \"1\": \":baseball:\",\n",
        "                    \"2\": \":smile:\",\n",
        "                    \"3\": \":disappointed:\",\n",
        "                    \"4\": \":fork_and_knife:\"}\n",
        "\n",
        "# let's see what the emojis render as in Colab!\n",
        "for i in emoji_map:\n",
        "    print(i, \" -> \", emoji.emojize(emoji_map[i], use_aliases= True))\n"
      ],
      "execution_count": 0,
      "outputs": [
        {
          "output_type": "stream",
          "text": [
            "Collecting emoji\n",
            "\u001b[?25l  Downloading https://files.pythonhosted.org/packages/40/8d/521be7f0091fe0f2ae690cc044faf43e3445e0ff33c574eae752dd7e39fa/emoji-0.5.4.tar.gz (43kB)\n",
            "\r\u001b[K     |███████▌                        | 10kB 21.4MB/s eta 0:00:01\r\u001b[K     |███████████████                 | 20kB 1.8MB/s eta 0:00:01\r\u001b[K     |██████████████████████▋         | 30kB 2.6MB/s eta 0:00:01\r\u001b[K     |██████████████████████████████▏ | 40kB 1.7MB/s eta 0:00:01\r\u001b[K     |████████████████████████████████| 51kB 1.7MB/s \n",
            "\u001b[?25hBuilding wheels for collected packages: emoji\n",
            "  Building wheel for emoji (setup.py) ... \u001b[?25l\u001b[?25hdone\n",
            "  Created wheel for emoji: filename=emoji-0.5.4-cp36-none-any.whl size=42175 sha256=9622866042c1403f1c415535b12407417a47e5dd884fc278a0e9b2579fefb0c8\n",
            "  Stored in directory: /root/.cache/pip/wheels/2a/a9/0a/4f8e8cce8074232aba240caca3fade315bb49fac68808d1a9c\n",
            "Successfully built emoji\n",
            "Installing collected packages: emoji\n",
            "Successfully installed emoji-0.5.4\n",
            "0  ->  ❤\n",
            "1  ->  ⚾\n",
            "2  ->  😄\n",
            "3  ->  😞\n",
            "4  ->  🍴\n"
          ],
          "name": "stdout"
        }
      ]
    },
    {
      "cell_type": "markdown",
      "metadata": {
        "id": "Xl3aINTUxbTI",
        "colab_type": "text"
      },
      "source": [
        "![It's over!](http://www.quickmeme.com/img/7f/7f77546945f948560cdc26b12b99d5ccd390c2e39d2849d3423ae7608dac066a.jpg)"
      ]
    }
  ]
}